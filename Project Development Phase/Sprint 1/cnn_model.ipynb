{
  "nbformat": 4,
  "nbformat_minor": 0,
  "metadata": {
    "colab": {
      "provenance": [],
      "collapsed_sections": []
    },
    "kernelspec": {
      "name": "python3",
      "display_name": "Python 3"
    },
    "language_info": {
      "name": "python"
    }
  },
  "cells": [
    {
      "cell_type": "code",
      "execution_count": 63,
      "metadata": {
        "id": "Y-k38_GBjInT"
      },
      "outputs": [],
      "source": [
        "from tensorflow.keras.models import Sequential\n",
        "from tensorflow.keras.layers import Dense, Convolution2D,MaxPooling2D,Flatten\n",
        "import pandas as pd"
      ]
    },
    {
      "cell_type": "code",
      "source": [
        "from google.colab import drive\n",
        "drive.mount(\"/content/drive\")"
      ],
      "metadata": {
        "colab": {
          "base_uri": "https://localhost:8080/"
        },
        "id": "V9CL71U74YBF",
        "outputId": "2fbc3d4b-fda5-4e67-9ab0-93401b945e32"
      },
      "execution_count": 64,
      "outputs": [
        {
          "output_type": "stream",
          "name": "stdout",
          "text": [
            "Drive already mounted at /content/drive; to attempt to forcibly remount, call drive.mount(\"/content/drive\", force_remount=True).\n"
          ]
        }
      ]
    },
    {
      "cell_type": "code",
      "source": [
        "from tensorflow.keras.preprocessing .image import ImageDataGenerator\n",
        "train_datagen = ImageDataGenerator(rescale = 1./255,shear_range = 0.2,zoom_range = 0.2,horizontal_flip = True)\n",
        "test_datagen = ImageDataGenerator(rescale = 1./255)"
      ],
      "metadata": {
        "id": "rZMViFTUjLxO"
      },
      "execution_count": 65,
      "outputs": []
    },
    {
      "cell_type": "code",
      "source": [
        "x_train=train_datagen.flow_from_directory(r'/content/drive/MyDrive/Digital_Naturalist_Dataset',target_size = (64,64),batch_size = 32,class_mode = \"categorical\")\n",
        "x_test=test_datagen.flow_from_directory(r'/content/drive/MyDrive/Digital_Naturalist_Dataset',target_size = (64,64),batch_size = 32,class_mode = \"categorical\")"
      ],
      "metadata": {
        "id": "kKYVZYCkjL0V",
        "colab": {
          "base_uri": "https://localhost:8080/"
        },
        "outputId": "5e93fbe9-d302-4954-8f65-5b58f18e6563"
      },
      "execution_count": 67,
      "outputs": [
        {
          "output_type": "stream",
          "name": "stdout",
          "text": [
            "Found 138 images belonging to 3 classes.\n",
            "Found 138 images belonging to 3 classes.\n"
          ]
        }
      ]
    },
    {
      "cell_type": "code",
      "source": [
        "x_train.class_indices"
      ],
      "metadata": {
        "id": "P9KfQSdsjL3w",
        "colab": {
          "base_uri": "https://localhost:8080/"
        },
        "outputId": "00e4adf1-94db-46bb-cd95-97b6bc3f701a"
      },
      "execution_count": 68,
      "outputs": [
        {
          "output_type": "execute_result",
          "data": {
            "text/plain": [
              "{'Bird': 0, 'Flower': 1, 'Mammal': 2}"
            ]
          },
          "metadata": {},
          "execution_count": 68
        }
      ]
    },
    {
      "cell_type": "code",
      "source": [
        "birds=train_datagen.flow_from_directory(r'/content/drive/MyDrive/Digital_Naturalist_Dataset/Bird')"
      ],
      "metadata": {
        "id": "qRONcYodjlVR",
        "colab": {
          "base_uri": "https://localhost:8080/"
        },
        "outputId": "9e364391-a78d-437e-ffc3-a9d410cb4fc5"
      },
      "execution_count": 69,
      "outputs": [
        {
          "output_type": "stream",
          "name": "stdout",
          "text": [
            "Found 42 images belonging to 2 classes.\n"
          ]
        }
      ]
    },
    {
      "cell_type": "code",
      "source": [
        "birds.class_indices"
      ],
      "metadata": {
        "id": "TxDqyhLijlYB",
        "colab": {
          "base_uri": "https://localhost:8080/"
        },
        "outputId": "117819dd-eabd-4109-d996-d2ac21f79e41"
      },
      "execution_count": 70,
      "outputs": [
        {
          "output_type": "execute_result",
          "data": {
            "text/plain": [
              "{'Great_Indian_Bustard_Bird': 0, 'Spoon Billed Sandpiper Bird': 1}"
            ]
          },
          "metadata": {},
          "execution_count": 70
        }
      ]
    },
    {
      "cell_type": "code",
      "source": [
        "flowers=train_datagen.flow_from_directory(r'/content/drive/MyDrive/Digital_Naturalist_Dataset/Flower')"
      ],
      "metadata": {
        "id": "SYaMWEPhjlbZ",
        "colab": {
          "base_uri": "https://localhost:8080/"
        },
        "outputId": "fe786052-1069-4d03-a01f-c32d93eda254"
      },
      "execution_count": 71,
      "outputs": [
        {
          "output_type": "stream",
          "name": "stdout",
          "text": [
            "Found 49 images belonging to 2 classes.\n"
          ]
        }
      ]
    },
    {
      "cell_type": "code",
      "source": [
        "flowers.class_indices"
      ],
      "metadata": {
        "id": "JnDFydy0kG4n",
        "colab": {
          "base_uri": "https://localhost:8080/"
        },
        "outputId": "6b828d65-67be-4dec-9212-5205139dbea7"
      },
      "execution_count": 72,
      "outputs": [
        {
          "output_type": "execute_result",
          "data": {
            "text/plain": [
              "{'Corpse Flower': 0, 'Lady Slipper Orchid Flower': 1}"
            ]
          },
          "metadata": {},
          "execution_count": 72
        }
      ]
    },
    {
      "cell_type": "code",
      "source": [
        "mammals=train_datagen.flow_from_directory(r'/content/drive/MyDrive/Digital_Naturalist_Dataset/Mammal')"
      ],
      "metadata": {
        "id": "PySliVHfkG7-",
        "colab": {
          "base_uri": "https://localhost:8080/"
        },
        "outputId": "903e0d95-b060-41c3-e8a4-b05d97d9f76b"
      },
      "execution_count": 73,
      "outputs": [
        {
          "output_type": "stream",
          "name": "stdout",
          "text": [
            "Found 47 images belonging to 2 classes.\n"
          ]
        }
      ]
    },
    {
      "cell_type": "code",
      "source": [
        "mammals.class_indices"
      ],
      "metadata": {
        "id": "ueZJ6TwwkQCS",
        "colab": {
          "base_uri": "https://localhost:8080/"
        },
        "outputId": "96e6f0cf-24e5-4e80-e928-d142c1c69cbb"
      },
      "execution_count": 74,
      "outputs": [
        {
          "output_type": "execute_result",
          "data": {
            "text/plain": [
              "{'Pangolin Mammal': 0, 'Senenca White Deer Mammal': 1}"
            ]
          },
          "metadata": {},
          "execution_count": 74
        }
      ]
    },
    {
      "cell_type": "code",
      "source": [
        "model=Sequential()"
      ],
      "metadata": {
        "id": "_qaqxKifkQFq"
      },
      "execution_count": 75,
      "outputs": []
    },
    {
      "cell_type": "code",
      "source": [
        "model.add(Convolution2D(32,(3,3),input_shape = (64,64,3)))"
      ],
      "metadata": {
        "id": "wqo1v1tHkXM7"
      },
      "execution_count": 76,
      "outputs": []
    },
    {
      "cell_type": "code",
      "source": [
        "model.add(MaxPooling2D((2,2)))"
      ],
      "metadata": {
        "id": "AJQJZ1cRkXPt"
      },
      "execution_count": 77,
      "outputs": []
    },
    {
      "cell_type": "code",
      "source": [
        "model.add(Flatten())"
      ],
      "metadata": {
        "id": "B_3QKwDOkXSj"
      },
      "execution_count": 78,
      "outputs": []
    },
    {
      "cell_type": "code",
      "source": [
        "model.add(Dense(units = 128, kernel_initializer= \"random_uniform\",activation = \"relu\"))"
      ],
      "metadata": {
        "id": "E5TBqg2rkXWC"
      },
      "execution_count": 79,
      "outputs": []
    },
    {
      "cell_type": "code",
      "source": [
        "model.add(Dense(units = 3, kernel_initializer= \"random_uniform\",activation = \"softmax\"))\n"
      ],
      "metadata": {
        "id": "tnJJzdTUkiHF"
      },
      "execution_count": 80,
      "outputs": []
    },
    {
      "cell_type": "code",
      "source": [
        "model.compile(optimizer= \"rmsprop\",loss = \"categorical_crossentropy\" , metrics =[\"accuracy\"])\n"
      ],
      "metadata": {
        "id": "DkXtUq3YkiKM"
      },
      "execution_count": 81,
      "outputs": []
    },
    {
      "cell_type": "code",
      "source": [
        "model.fit_generator(x_train,steps_per_epoch =251 ,epochs = 5, validation_data = x_test,validation_steps =28 )\n"
      ],
      "metadata": {
        "id": "_eOBVq_UkiNt",
        "colab": {
          "base_uri": "https://localhost:8080/"
        },
        "outputId": "17d67eca-29a6-487a-abd5-1dc727bd9e8a"
      },
      "execution_count": 106,
      "outputs": [
        {
          "output_type": "stream",
          "name": "stdout",
          "text": [
            "Epoch 1/5\n"
          ]
        },
        {
          "output_type": "stream",
          "name": "stderr",
          "text": [
            "/usr/local/lib/python3.7/dist-packages/ipykernel_launcher.py:1: UserWarning: `Model.fit_generator` is deprecated and will be removed in a future version. Please use `Model.fit`, which supports generators.\n",
            "  \"\"\"Entry point for launching an IPython kernel.\n"
          ]
        },
        {
          "output_type": "stream",
          "name": "stdout",
          "text": [
            "  5/251 [..............................] - ETA: 44s - loss: 1.1428 - accuracy: 0.5072"
          ]
        },
        {
          "output_type": "stream",
          "name": "stderr",
          "text": [
            "WARNING:tensorflow:Your input ran out of data; interrupting training. Make sure that your dataset or generator can generate at least `steps_per_epoch * epochs` batches (in this case, 1255 batches). You may need to use the repeat() function when building your dataset.\n",
            "WARNING:tensorflow:Your input ran out of data; interrupting training. Make sure that your dataset or generator can generate at least `steps_per_epoch * epochs` batches (in this case, 28 batches). You may need to use the repeat() function when building your dataset.\n"
          ]
        },
        {
          "output_type": "stream",
          "name": "stdout",
          "text": [
            "\b\b\b\b\b\b\b\b\b\b\b\b\b\b\b\b\b\b\b\b\b\b\b\b\b\b\b\b\b\b\b\b\b\b\b\b\b\b\b\b\b\b\b\b\b\b\b\b\b\b\b\b\b\b\b\b\b\b\b\b\b\b\b\b\b\b\b\b\b\b\b\b\b\b\b\b\b\b\b\b\b\b\b\b\b\r251/251 [==============================] - 2s 6ms/step - loss: 1.1428 - accuracy: 0.5072 - val_loss: 0.8047 - val_accuracy: 0.5217\n"
          ]
        },
        {
          "output_type": "execute_result",
          "data": {
            "text/plain": [
              "<keras.callbacks.History at 0x7f97b5c78590>"
            ]
          },
          "metadata": {},
          "execution_count": 106
        }
      ]
    },
    {
      "cell_type": "code",
      "source": [
        "model.save(\"final_model.h5\")"
      ],
      "metadata": {
        "id": "W2jhhoPbkogQ"
      },
      "execution_count": 107,
      "outputs": []
    },
    {
      "cell_type": "code",
      "source": [
        "from tensorflow.keras.models import load_model\n",
        "from tensorflow.keras.preprocessing  import image\n",
        "import numpy as np\n",
        "model = load_model(\"./final_model.h5\")"
      ],
      "metadata": {
        "id": "w1K619Znkt4y"
      },
      "execution_count": 108,
      "outputs": []
    },
    {
      "cell_type": "code",
      "source": [
        "from IPython.display import Image\n",
        "img=Image(filename=r'/content/drive/MyDrive/Digital_Naturalist_Dataset/Bird/Great_Indian_Bustard_Bird/download(9).jpg')\n",
        "img"
      ],
      "metadata": {
        "id": "eaknS_Qvkt8S",
        "colab": {
          "base_uri": "https://localhost:8080/",
          "height": 203
        },
        "outputId": "6236a348-fa3f-4c5c-deb3-b5ec7f206799"
      },
      "execution_count": 109,
      "outputs": [
        {
          "output_type": "execute_result",
          "data": {
            "image/jpeg": "[encoded data removed]",
            "text/plain": [
              "<IPython.core.display.Image object>"
            ]
          },
          "metadata": {},
          "execution_count": 109
        }
      ]
    },
    {
      "cell_type": "code",
      "source": [
        "from tensorflow.keras.preprocessing  import image\n",
        "path2=r'/content/drive/MyDrive/Digital_Naturalist_Dataset/Bird/Great_Indian_Bustard_Bird/download(9).jpg'\n",
        "\n",
        "img = image.load_img(path2,target_size = (64,64))"
      ],
      "metadata": {
        "id": "8MU7urKFkt_w"
      },
      "execution_count": 110,
      "outputs": []
    },
    {
      "cell_type": "code",
      "source": [
        "type(img)\n",
        "#PIL.Image.Image"
      ],
      "metadata": {
        "id": "WAQn42r9k2OI",
        "colab": {
          "base_uri": "https://localhost:8080/"
        },
        "outputId": "b5e25658-a086-49ce-f0ae-c9081cfa565a"
      },
      "execution_count": 112,
      "outputs": [
        {
          "output_type": "execute_result",
          "data": {
            "text/plain": [
              "PIL.Image.Image"
            ]
          },
          "metadata": {},
          "execution_count": 112
        }
      ]
    },
    {
      "cell_type": "code",
      "source": [
        "x = image.img_to_array(img)"
      ],
      "metadata": {
        "id": "TPZEzpMYk2Q-"
      },
      "execution_count": 113,
      "outputs": []
    },
    {
      "cell_type": "code",
      "source": [
        "x.shape"
      ],
      "metadata": {
        "id": "CK29-QULk2Tn",
        "colab": {
          "base_uri": "https://localhost:8080/"
        },
        "outputId": "41d11a1b-55b2-4616-9459-0b8c75dc3925"
      },
      "execution_count": 114,
      "outputs": [
        {
          "output_type": "execute_result",
          "data": {
            "text/plain": [
              "(64, 64, 3)"
            ]
          },
          "metadata": {},
          "execution_count": 114
        }
      ]
    },
    {
      "cell_type": "code",
      "source": [
        "type(x)"
      ],
      "metadata": {
        "id": "CScO6xrNk2XQ",
        "colab": {
          "base_uri": "https://localhost:8080/"
        },
        "outputId": "514ce571-1253-42c3-9a16-29bc826bfd7b"
      },
      "execution_count": 115,
      "outputs": [
        {
          "output_type": "execute_result",
          "data": {
            "text/plain": [
              "numpy.ndarray"
            ]
          },
          "metadata": {},
          "execution_count": 115
        }
      ]
    },
    {
      "cell_type": "code",
      "source": [
        "x = np.expand_dims(x,axis = 0)\n",
        "x.shape"
      ],
      "metadata": {
        "id": "_JRjeVcZlCXH",
        "colab": {
          "base_uri": "https://localhost:8080/"
        },
        "outputId": "32eae5f5-eb96-4845-dca7-79dab98461ff"
      },
      "execution_count": 116,
      "outputs": [
        {
          "output_type": "execute_result",
          "data": {
            "text/plain": [
              "(1, 64, 64, 3)"
            ]
          },
          "metadata": {},
          "execution_count": 116
        }
      ]
    },
    {
      "cell_type": "code",
      "source": [
        "pred = np.argmax(model.predict(x))\n",
        "pred"
      ],
      "metadata": {
        "id": "yEUU7XrHlCaU",
        "colab": {
          "base_uri": "https://localhost:8080/"
        },
        "outputId": "da3db848-8bc3-45d9-f33f-f8be86022af6"
      },
      "execution_count": 117,
      "outputs": [
        {
          "output_type": "stream",
          "name": "stdout",
          "text": [
            "1/1 [==============================] - 0s 63ms/step\n"
          ]
        },
        {
          "output_type": "execute_result",
          "data": {
            "text/plain": [
              "0"
            ]
          },
          "metadata": {},
          "execution_count": 117
        }
      ]
    },
    {
      "cell_type": "code",
      "source": [
        "index=[\"birds\",\"flowers\",\"mammals\"]"
      ],
      "metadata": {
        "id": "0aeSNCbTlCd9"
      },
      "execution_count": 118,
      "outputs": []
    },
    {
      "cell_type": "code",
      "source": [
        "natur1=index[pred]"
      ],
      "metadata": {
        "id": "kv2Fxc8QmMHp"
      },
      "execution_count": 119,
      "outputs": []
    },
    {
      "cell_type": "code",
      "source": [
        "natur1"
      ],
      "metadata": {
        "id": "Px-G_PfBmMKD",
        "colab": {
          "base_uri": "https://localhost:8080/",
          "height": 36
        },
        "outputId": "e3e0a51f-55a6-4ee5-daf9-dc80f65fec0a"
      },
      "execution_count": 120,
      "outputs": [
        {
          "output_type": "execute_result",
          "data": {
            "text/plain": [
              "'birds'"
            ],
            "application/vnd.google.colaboratory.intrinsic+json": {
              "type": "string"
            }
          },
          "metadata": {},
          "execution_count": 120
        }
      ]
    },
    {
      "cell_type": "code",
      "source": [
        "if natur1==\"birds\":\n",
        " a=[\"Great Indian Bustard Bird\",\"Spoon Billed Sandpiper Bird\"]\n",
        "elif natur1==\"flowers\":\n",
        " a=[\" Corpse Flower\", \"Lady Slipper Orchid Flower\"]\n",
        "else:\n",
        " a=[\"Pangolin Mammal\",\"Senenca White Deer Mammal\"]"
      ],
      "metadata": {
        "id": "dxq5FK-gmMNr"
      },
      "execution_count": 121,
      "outputs": []
    },
    {
      "cell_type": "code",
      "source": [
        "a\n",
        "#['gatto', 'mucca', 'pecora']"
      ],
      "metadata": {
        "id": "Wwr25VX8mYGS",
        "colab": {
          "base_uri": "https://localhost:8080/"
        },
        "outputId": "fae74ad2-1ff8-4229-b3f6-ed9a71412a28"
      },
      "execution_count": 122,
      "outputs": [
        {
          "output_type": "execute_result",
          "data": {
            "text/plain": [
              "['Great Indian Bustard Bird', 'Spoon Billed Sandpiper Bird']"
            ]
          },
          "metadata": {},
          "execution_count": 122
        }
      ]
    },
    {
      "cell_type": "code",
      "source": [
        "natur1=a[pred]"
      ],
      "metadata": {
        "id": "k_1Q3hWGmYLi"
      },
      "execution_count": 123,
      "outputs": []
    },
    {
      "cell_type": "code",
      "source": [
        "natur1\n",
        "#'gatto'"
      ],
      "metadata": {
        "id": "T-BXTYIZmYTR",
        "colab": {
          "base_uri": "https://localhost:8080/",
          "height": 36
        },
        "outputId": "e2b324fb-3c8e-4b36-f4d1-69d6461e2b07"
      },
      "execution_count": 124,
      "outputs": [
        {
          "output_type": "execute_result",
          "data": {
            "text/plain": [
              "'Great Indian Bustard Bird'"
            ],
            "application/vnd.google.colaboratory.intrinsic+json": {
              "type": "string"
            }
          },
          "metadata": {},
          "execution_count": 124
        }
      ]
    },
    {
      "cell_type": "code",
      "source": [
        "model.save_weights(\"naturalist\")"
      ],
      "metadata": {
        "id": "1jFrv4TEmjK1"
      },
      "execution_count": 126,
      "outputs": []
    }
  ]
}
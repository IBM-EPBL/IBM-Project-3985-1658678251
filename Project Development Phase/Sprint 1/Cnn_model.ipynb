{
  "nbformat": 4,
  "nbformat_minor": 0,
  "metadata": {
    "colab": {
      "provenance": [],
      "collapsed_sections": []
    },
    "kernelspec": {
      "name": "python3",
      "display_name": "Python 3"
    },
    "language_info": {
      "name": "python"
    }
  },
  "cells": [
    {
      "cell_type": "code",
      "execution_count": 1,
      "metadata": {
        "id": "Y-k38_GBjInT"
      },
      "outputs": [],
      "source": [
        "from tensorflow.keras.models import Sequential\n",
        "from tensorflow.keras.layers import Dense, Convolution2D,MaxPooling2D,Flatten\n",
        "import pandas as pd"
      ]
    },
    {
      "cell_type": "code",
      "source": [
        "from google.colab import drive\n",
        "drive.mount(\"/content/drive\")"
      ],
      "metadata": {
        "colab": {
          "base_uri": "https://localhost:8080/"
        },
        "id": "V9CL71U74YBF",
        "outputId": "d1d53d94-bc02-48d9-c6c7-f922e8089590"
      },
      "execution_count": 2,
      "outputs": [
        {
          "output_type": "stream",
          "name": "stdout",
          "text": [
            "Mounted at /content/drive\n"
          ]
        }
      ]
    },
    {
      "cell_type": "code",
      "source": [
        "from tensorflow.keras.preprocessing .image import ImageDataGenerator\n",
        "train_datagen = ImageDataGenerator(rescale = 1./255,shear_range = 0.2,zoom_range = 0.2,horizontal_flip = True)\n",
        "test_datagen = ImageDataGenerator(rescale = 1./255)"
      ],
      "metadata": {
        "id": "rZMViFTUjLxO"
      },
      "execution_count": 3,
      "outputs": []
    },
    {
      "cell_type": "code",
      "source": [
        "x_train=train_datagen.flow_from_directory(r'/content/drive/MyDrive/Digital_Naturalist_Dataset',target_size = (64,64),batch_size = 32,class_mode = \"categorical\")\n",
        "x_test=test_datagen.flow_from_directory(r'/content/drive/MyDrive/Digital_Naturalist_Dataset',target_size = (64,64),batch_size = 32,class_mode = \"categorical\")"
      ],
      "metadata": {
        "id": "kKYVZYCkjL0V",
        "colab": {
          "base_uri": "https://localhost:8080/"
        },
        "outputId": "3f0fdb9f-36d2-4bc7-d40c-198a13250765"
      },
      "execution_count": 4,
      "outputs": [
        {
          "output_type": "stream",
          "name": "stdout",
          "text": [
            "Found 138 images belonging to 3 classes.\n",
            "Found 138 images belonging to 3 classes.\n"
          ]
        }
      ]
    },
    {
      "cell_type": "code",
      "source": [
        "x_train.class_indices"
      ],
      "metadata": {
        "id": "P9KfQSdsjL3w",
        "colab": {
          "base_uri": "https://localhost:8080/"
        },
        "outputId": "1df3dab7-9b97-440e-9d90-044f417f9135"
      },
      "execution_count": 5,
      "outputs": [
        {
          "output_type": "execute_result",
          "data": {
            "text/plain": [
              "{'Bird': 0, 'Flower': 1, 'Mammal': 2}"
            ]
          },
          "metadata": {},
          "execution_count": 5
        }
      ]
    },
    {
      "cell_type": "code",
      "source": [
        "birds=train_datagen.flow_from_directory(r'/content/drive/MyDrive/Digital_Naturalist_Dataset/Bird')"
      ],
      "metadata": {
        "id": "qRONcYodjlVR",
        "colab": {
          "base_uri": "https://localhost:8080/"
        },
        "outputId": "5d03ea8d-4dca-48a5-92a3-95abc6418916"
      },
      "execution_count": 6,
      "outputs": [
        {
          "output_type": "stream",
          "name": "stdout",
          "text": [
            "Found 42 images belonging to 2 classes.\n"
          ]
        }
      ]
    },
    {
      "cell_type": "code",
      "source": [
        "birds.class_indices"
      ],
      "metadata": {
        "id": "TxDqyhLijlYB",
        "colab": {
          "base_uri": "https://localhost:8080/"
        },
        "outputId": "e68e7d07-0378-485a-b889-243918149715"
      },
      "execution_count": 7,
      "outputs": [
        {
          "output_type": "execute_result",
          "data": {
            "text/plain": [
              "{'Great_Indian_Bustard_Bird': 0, 'Spoon Billed Sandpiper Bird': 1}"
            ]
          },
          "metadata": {},
          "execution_count": 7
        }
      ]
    },
    {
      "cell_type": "code",
      "source": [
        "flowers=train_datagen.flow_from_directory(r'/content/drive/MyDrive/Digital_Naturalist_Dataset/Flower')"
      ],
      "metadata": {
        "id": "SYaMWEPhjlbZ",
        "colab": {
          "base_uri": "https://localhost:8080/"
        },
        "outputId": "f140f396-0b4f-4de9-9118-789d0a1ffb39"
      },
      "execution_count": 8,
      "outputs": [
        {
          "output_type": "stream",
          "name": "stdout",
          "text": [
            "Found 49 images belonging to 2 classes.\n"
          ]
        }
      ]
    },
    {
      "cell_type": "code",
      "source": [
        "flowers.class_indices"
      ],
      "metadata": {
        "id": "JnDFydy0kG4n",
        "colab": {
          "base_uri": "https://localhost:8080/"
        },
        "outputId": "23522bc7-2de8-42cd-dca2-ac6df5377a6b"
      },
      "execution_count": 9,
      "outputs": [
        {
          "output_type": "execute_result",
          "data": {
            "text/plain": [
              "{'Corpse Flower': 0, 'Lady Slipper Orchid Flower': 1}"
            ]
          },
          "metadata": {},
          "execution_count": 9
        }
      ]
    },
    {
      "cell_type": "code",
      "source": [
        "mammals=train_datagen.flow_from_directory(r'/content/drive/MyDrive/Digital_Naturalist_Dataset/Mammal')"
      ],
      "metadata": {
        "id": "PySliVHfkG7-",
        "colab": {
          "base_uri": "https://localhost:8080/"
        },
        "outputId": "f77c2506-bc9e-4e72-bc38-909667e024f8"
      },
      "execution_count": 10,
      "outputs": [
        {
          "output_type": "stream",
          "name": "stdout",
          "text": [
            "Found 47 images belonging to 2 classes.\n"
          ]
        }
      ]
    },
    {
      "cell_type": "code",
      "source": [
        "mammals.class_indices"
      ],
      "metadata": {
        "id": "ueZJ6TwwkQCS",
        "colab": {
          "base_uri": "https://localhost:8080/"
        },
        "outputId": "de258305-8023-4c90-eff1-9f53b114769e"
      },
      "execution_count": 11,
      "outputs": [
        {
          "output_type": "execute_result",
          "data": {
            "text/plain": [
              "{'Pangolin Mammal': 0, 'Senenca White Deer Mammal': 1}"
            ]
          },
          "metadata": {},
          "execution_count": 11
        }
      ]
    },
    {
      "cell_type": "code",
      "source": [
        "model=Sequential()"
      ],
      "metadata": {
        "id": "_qaqxKifkQFq"
      },
      "execution_count": 12,
      "outputs": []
    },
    {
      "cell_type": "code",
      "source": [
        "model.add(Convolution2D(32,(3,3),input_shape = (64,64,3)))"
      ],
      "metadata": {
        "id": "wqo1v1tHkXM7"
      },
      "execution_count": 13,
      "outputs": []
    },
    {
      "cell_type": "code",
      "source": [
        "model.add(MaxPooling2D((2,2)))"
      ],
      "metadata": {
        "id": "AJQJZ1cRkXPt"
      },
      "execution_count": 14,
      "outputs": []
    },
    {
      "cell_type": "code",
      "source": [
        "model.add(Flatten())"
      ],
      "metadata": {
        "id": "B_3QKwDOkXSj"
      },
      "execution_count": 16,
      "outputs": []
    },
    {
      "cell_type": "code",
      "source": [
        "model.add(Dense(units = 128, kernel_initializer= \"random_uniform\",activation = \"relu\"))"
      ],
      "metadata": {
        "id": "E5TBqg2rkXWC"
      },
      "execution_count": 17,
      "outputs": []
    },
    {
      "cell_type": "code",
      "source": [
        "model.add(Dense(units = 3, kernel_initializer= \"random_uniform\",activation = \"softmax\"))\n"
      ],
      "metadata": {
        "id": "tnJJzdTUkiHF"
      },
      "execution_count": 18,
      "outputs": []
    },
    {
      "cell_type": "code",
      "source": [
        "model.compile(optimizer= \"rmsprop\",loss = \"categorical_crossentropy\" , metrics =[\"accuracy\"])\n"
      ],
      "metadata": {
        "id": "DkXtUq3YkiKM"
      },
      "execution_count": 19,
      "outputs": []
    },
    {
      "cell_type": "code",
      "source": [
        "model.fit_generator(x_train,steps_per_epoch =251 ,epochs = 5, validation_data = x_test,validation_steps =28 )\n"
      ],
      "metadata": {
        "id": "_eOBVq_UkiNt",
        "colab": {
          "base_uri": "https://localhost:8080/"
        },
        "outputId": "cc4a0916-889c-43c1-c216-efc84812ced3"
      },
      "execution_count": 20,
      "outputs": [
        {
          "output_type": "stream",
          "name": "stderr",
          "text": [
            "/usr/local/lib/python3.7/dist-packages/ipykernel_launcher.py:1: UserWarning: `Model.fit_generator` is deprecated and will be removed in a future version. Please use `Model.fit`, which supports generators.\n",
            "  \"\"\"Entry point for launching an IPython kernel.\n"
          ]
        },
        {
          "output_type": "stream",
          "name": "stdout",
          "text": [
            "Epoch 1/5\n",
            "  5/251 [..............................] - ETA: 26:28 - loss: 1.2313 - accuracy: 0.4058"
          ]
        },
        {
          "output_type": "stream",
          "name": "stderr",
          "text": [
            "WARNING:tensorflow:Your input ran out of data; interrupting training. Make sure that your dataset or generator can generate at least `steps_per_epoch * epochs` batches (in this case, 1255 batches). You may need to use the repeat() function when building your dataset.\n",
            "WARNING:tensorflow:Your input ran out of data; interrupting training. Make sure that your dataset or generator can generate at least `steps_per_epoch * epochs` batches (in this case, 28 batches). You may need to use the repeat() function when building your dataset.\n"
          ]
        },
        {
          "output_type": "stream",
          "name": "stdout",
          "text": [
            "\b\b\b\b\b\b\b\b\b\b\b\b\b\b\b\b\b\b\b\b\b\b\b\b\b\b\b\b\b\b\b\b\b\b\b\b\b\b\b\b\b\b\b\b\b\b\b\b\b\b\b\b\b\b\b\b\b\b\b\b\b\b\b\b\b\b\b\b\b\b\b\b\b\b\b\b\b\b\b\b\b\b\b\b\b\b\b\r251/251 [==============================] - 32s 110ms/step - loss: 1.2313 - accuracy: 0.4058 - val_loss: 0.9862 - val_accuracy: 0.5652\n"
          ]
        },
        {
          "output_type": "execute_result",
          "data": {
            "text/plain": [
              "<keras.callbacks.History at 0x7fd890b8b750>"
            ]
          },
          "metadata": {},
          "execution_count": 20
        }
      ]
    },
    {
      "cell_type": "code",
      "source": [
        "h5_path=r'/content/drive/MyDrive/Colab/final_model.h5'"
      ],
      "metadata": {
        "id": "s3e0IgDFvY3d"
      },
      "execution_count": 26,
      "outputs": []
    },
    {
      "cell_type": "code",
      "source": [
        "import h5py"
      ],
      "metadata": {
        "id": "HaWikfpKvY6-"
      },
      "execution_count": 22,
      "outputs": []
    },
    {
      "cell_type": "code",
      "source": [
        "model.save(h5_path)"
      ],
      "metadata": {
        "id": "W2jhhoPbkogQ"
      },
      "execution_count": 28,
      "outputs": []
    },
    {
      "cell_type": "code",
      "source": [
        "from tensorflow.keras.models import load_model\n",
        "from tensorflow.keras.preprocessing  import image\n",
        "import numpy as np\n",
        "model = load_model(h5_path)"
      ],
      "metadata": {
        "id": "w1K619Znkt4y"
      },
      "execution_count": 30,
      "outputs": []
    },
    {
      "cell_type": "code",
      "source": [
        "from IPython.display import Image\n",
        "img=Image(filename=r'/content/drive/MyDrive/Digital_Naturalist_Dataset/Bird/Great_Indian_Bustard_Bird/download(9).jpg')\n",
        "img"
      ],
      "metadata": {
        "id": "eaknS_Qvkt8S",
        "colab": {
          "base_uri": "https://localhost:8080/",
          "height": 203
        },
        "outputId": "4a2838e2-23b6-4f2e-a799-3a4dbaa5e975"
      },
      "execution_count": 31,
      "outputs": [
        {
          "output_type": "execute_result",
          "data": {
            "image/jpeg": "[encoded data removed]",
            "text/plain": [
              "<IPython.core.display.Image object>"
            ]
          },
          "metadata": {},
          "execution_count": 31
        }
      ]
    },
    {
      "cell_type": "code",
      "source": [
        "from tensorflow.keras.preprocessing  import image\n",
        "path2=r'/content/drive/MyDrive/Digital_Naturalist_Dataset/Bird/Great_Indian_Bustard_Bird/download(9).jpg'\n",
        "\n",
        "img = image.load_img(path2,target_size = (64,64))"
      ],
      "metadata": {
        "id": "8MU7urKFkt_w"
      },
      "execution_count": 32,
      "outputs": []
    },
    {
      "cell_type": "code",
      "source": [
        "type(img)\n",
        "#PIL.Image.Image"
      ],
      "metadata": {
        "id": "WAQn42r9k2OI",
        "colab": {
          "base_uri": "https://localhost:8080/"
        },
        "outputId": "d7b9e21c-c735-40f8-de10-ae4c193c5154"
      },
      "execution_count": 33,
      "outputs": [
        {
          "output_type": "execute_result",
          "data": {
            "text/plain": [
              "PIL.Image.Image"
            ]
          },
          "metadata": {},
          "execution_count": 33
        }
      ]
    },
    {
      "cell_type": "code",
      "source": [
        "x = image.img_to_array(img)"
      ],
      "metadata": {
        "id": "TPZEzpMYk2Q-"
      },
      "execution_count": 34,
      "outputs": []
    },
    {
      "cell_type": "code",
      "source": [
        "x.shape"
      ],
      "metadata": {
        "id": "CK29-QULk2Tn",
        "colab": {
          "base_uri": "https://localhost:8080/"
        },
        "outputId": "3d376c75-ad10-4923-bd89-4f8125f2ebc4"
      },
      "execution_count": 35,
      "outputs": [
        {
          "output_type": "execute_result",
          "data": {
            "text/plain": [
              "(64, 64, 3)"
            ]
          },
          "metadata": {},
          "execution_count": 35
        }
      ]
    },
    {
      "cell_type": "code",
      "source": [
        "type(x)"
      ],
      "metadata": {
        "id": "CScO6xrNk2XQ",
        "colab": {
          "base_uri": "https://localhost:8080/"
        },
        "outputId": "12ac1718-d000-4946-eada-64d7634445fe"
      },
      "execution_count": 36,
      "outputs": [
        {
          "output_type": "execute_result",
          "data": {
            "text/plain": [
              "numpy.ndarray"
            ]
          },
          "metadata": {},
          "execution_count": 36
        }
      ]
    },
    {
      "cell_type": "code",
      "source": [
        "x = np.expand_dims(x,axis = 0)\n",
        "x.shape"
      ],
      "metadata": {
        "id": "_JRjeVcZlCXH",
        "colab": {
          "base_uri": "https://localhost:8080/"
        },
        "outputId": "1d2164a7-fb52-4409-d12b-55b3fff1c81a"
      },
      "execution_count": 37,
      "outputs": [
        {
          "output_type": "execute_result",
          "data": {
            "text/plain": [
              "(1, 64, 64, 3)"
            ]
          },
          "metadata": {},
          "execution_count": 37
        }
      ]
    },
    {
      "cell_type": "code",
      "source": [
        "pred = np.argmax(model.predict(x))\n",
        "pred"
      ],
      "metadata": {
        "id": "yEUU7XrHlCaU",
        "colab": {
          "base_uri": "https://localhost:8080/"
        },
        "outputId": "e1cbd5a9-a725-434f-cf8b-4c56966ab755"
      },
      "execution_count": 38,
      "outputs": [
        {
          "output_type": "stream",
          "name": "stdout",
          "text": [
            "1/1 [==============================] - 0s 172ms/step\n"
          ]
        },
        {
          "output_type": "execute_result",
          "data": {
            "text/plain": [
              "0"
            ]
          },
          "metadata": {},
          "execution_count": 38
        }
      ]
    },
    {
      "cell_type": "code",
      "source": [
        "index=[\"birds\",\"flowers\",\"mammals\"]"
      ],
      "metadata": {
        "id": "0aeSNCbTlCd9"
      },
      "execution_count": 39,
      "outputs": []
    },
    {
      "cell_type": "code",
      "source": [
        "natur1=index[pred]"
      ],
      "metadata": {
        "id": "kv2Fxc8QmMHp"
      },
      "execution_count": 40,
      "outputs": []
    },
    {
      "cell_type": "code",
      "source": [
        "natur1"
      ],
      "metadata": {
        "id": "Px-G_PfBmMKD",
        "colab": {
          "base_uri": "https://localhost:8080/",
          "height": 36
        },
        "outputId": "a3dce430-5581-4e92-a4d5-85bb623b5748"
      },
      "execution_count": 41,
      "outputs": [
        {
          "output_type": "execute_result",
          "data": {
            "text/plain": [
              "'birds'"
            ],
            "application/vnd.google.colaboratory.intrinsic+json": {
              "type": "string"
            }
          },
          "metadata": {},
          "execution_count": 41
        }
      ]
    },
    {
      "cell_type": "code",
      "source": [
        "if natur1==\"birds\":\n",
        " a=[\"Great Indian Bustard Bird\",\"Spoon Billed Sandpiper Bird\"]\n",
        "elif natur1==\"flowers\":\n",
        " a=[\" Corpse Flower\", \"Lady Slipper Orchid Flower\"]\n",
        "else:\n",
        " a=[\"Pangolin Mammal\",\"Senenca White Deer Mammal\"]"
      ],
      "metadata": {
        "id": "dxq5FK-gmMNr"
      },
      "execution_count": 42,
      "outputs": []
    },
    {
      "cell_type": "code",
      "source": [
        "a"
      ],
      "metadata": {
        "id": "Wwr25VX8mYGS",
        "colab": {
          "base_uri": "https://localhost:8080/"
        },
        "outputId": "7723d0de-a480-4100-9e20-308196cbbc63"
      },
      "execution_count": 43,
      "outputs": [
        {
          "output_type": "execute_result",
          "data": {
            "text/plain": [
              "['Great Indian Bustard Bird', 'Spoon Billed Sandpiper Bird']"
            ]
          },
          "metadata": {},
          "execution_count": 43
        }
      ]
    },
    {
      "cell_type": "code",
      "source": [
        "natur1=a[pred]"
      ],
      "metadata": {
        "id": "k_1Q3hWGmYLi"
      },
      "execution_count": 44,
      "outputs": []
    },
    {
      "cell_type": "code",
      "source": [
        "natur1\n"
      ],
      "metadata": {
        "id": "T-BXTYIZmYTR",
        "colab": {
          "base_uri": "https://localhost:8080/",
          "height": 36
        },
        "outputId": "0e6b042b-677b-4790-9f5f-9057c1f7fd7c"
      },
      "execution_count": 45,
      "outputs": [
        {
          "output_type": "execute_result",
          "data": {
            "text/plain": [
              "'Great Indian Bustard Bird'"
            ],
            "application/vnd.google.colaboratory.intrinsic+json": {
              "type": "string"
            }
          },
          "metadata": {},
          "execution_count": 45
        }
      ]
    },
    {
      "cell_type": "code",
      "source": [
        "model.save_weights(\"naturalist\")"
      ],
      "metadata": {
        "id": "1jFrv4TEmjK1"
      },
      "execution_count": 46,
      "outputs": []
    }
  ]
}